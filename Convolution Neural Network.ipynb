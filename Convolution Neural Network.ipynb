{
 "cells": [
  {
   "cell_type": "code",
   "execution_count": 1,
   "metadata": {},
   "outputs": [],
   "source": [
    "import pandas as pd\n",
    "import numpy as np\n",
    "from sklearn.metrics import classification_report, precision_score, recall_score, f1_score, accuracy_score, \\\n",
    "                            confusion_matrix, plot_confusion_matrix, precision_recall_curve, plot_roc_curve, \\\n",
    "                            roc_auc_score\n",
    "from sklearn.model_selection import train_test_split\n",
    "from sklearn.preprocessing import OneHotEncoder\n",
    "from keras.preprocessing.text import Tokenizer\n",
    "from keras.preprocessing.sequence import pad_sequences\n",
    "from keras.models import Sequential\n",
    "from itertools import combinations \n",
    "from keras.layers import Dense, Conv1D, GlobalMaxPool1D, Embedding\n",
    "from keras.optimizers import RMSprop"
   ]
  },
  {
   "cell_type": "code",
   "execution_count": 2,
   "metadata": {},
   "outputs": [],
   "source": [
    "def classifier_report(y_true, y_pred):\n",
    "    \n",
    "    print(\"Precision :  \", precision_score(y_true, y_pred))\n",
    "    print(\"Recall    :  \", recall_score(y_true, y_pred))\n",
    "    print(\"F1-score  :  \", f1_score(y_true, y_pred))\n",
    "    print(\"Accuracy  :  \", accuracy_score(y_true, y_pred))\n",
    "    print(\"ROC AUC   :  \", roc_auc_score(y_true, y_pred))\n",
    "    print(\"Confusion Matrix : \")\n",
    "    print(confusion_matrix(y_true, y_pred))"
   ]
  },
  {
   "cell_type": "code",
   "execution_count": null,
   "metadata": {},
   "outputs": [],
   "source": []
  },
  {
   "cell_type": "code",
   "execution_count": 3,
   "metadata": {},
   "outputs": [],
   "source": [
    "from nltk.sentiment import SentimentIntensityAnalyzer\n",
    "sid = SentimentIntensityAnalyzer()"
   ]
  },
  {
   "cell_type": "code",
   "execution_count": 4,
   "metadata": {},
   "outputs": [],
   "source": [
    "import spacy, re\n",
    "nlp = spacy.load(\"en_core_web_sm\")"
   ]
  },
  {
   "cell_type": "code",
   "execution_count": null,
   "metadata": {},
   "outputs": [],
   "source": []
  },
  {
   "cell_type": "markdown",
   "metadata": {},
   "source": [
    "#### preprocessed_data.csv should not be used for training neural network as it has removed stopwords"
   ]
  },
  {
   "cell_type": "code",
   "execution_count": 5,
   "metadata": {},
   "outputs": [],
   "source": [
    "data = pd.read_csv(\"new_processed_tweet.csv\")[[\"tweet\", \"label\"]]"
   ]
  },
  {
   "cell_type": "code",
   "execution_count": 6,
   "metadata": {},
   "outputs": [],
   "source": [
    "test_data = pd.read_csv(\"new_processed_tweet_test.csv\")[[\"tweet\", \"id\"]]\n",
    "test_id = test_data[\"id\"]"
   ]
  },
  {
   "cell_type": "markdown",
   "metadata": {},
   "source": [
    "### Model"
   ]
  },
  {
   "cell_type": "code",
   "execution_count": 7,
   "metadata": {},
   "outputs": [],
   "source": [
    "label = data[[\"label\"]]\n",
    "max_len = 60\n",
    "\n",
    "tokenizer = Tokenizer()\n",
    "tokenizer.fit_on_texts(data[\"tweet\"])\n",
    "sequence = tokenizer.texts_to_sequences(data[\"tweet\"])\n",
    "\n",
    "sequence = pad_sequences(sequence, maxlen=max_len, padding=\"post\")"
   ]
  },
  {
   "cell_type": "code",
   "execution_count": 8,
   "metadata": {},
   "outputs": [],
   "source": [
    "one_hot_encoder = OneHotEncoder()\n",
    "label_nn = one_hot_encoder.fit_transform(label)"
   ]
  },
  {
   "cell_type": "code",
   "execution_count": 9,
   "metadata": {},
   "outputs": [],
   "source": [
    "vocab_size = len(tokenizer.word_index) + 1\n",
    "\n",
    "model = Sequential()\n",
    "model.add(Embedding(vocab_size, 10, input_length=max_len))\n",
    "model.add(Conv1D(filters=30, kernel_size=3, activation=\"relu\"))\n",
    "model.add(Conv1D(filters=10, kernel_size=3, activation=\"relu\"))\n",
    "model.add(GlobalMaxPool1D())\n",
    "model.add(Dense(16, activation=\"sigmoid\"))\n",
    "model.add(Dense(8, activation=\"sigmoid\"))\n",
    "model.add(Dense(2, activation=\"softmax\"))\n",
    "\n",
    "model.compile(loss=\"binary_crossentropy\", optimizer=RMSprop(), metrics=[\"accuracy\"])"
   ]
  },
  {
   "cell_type": "code",
   "execution_count": 10,
   "metadata": {},
   "outputs": [
    {
     "name": "stdout",
     "output_type": "stream",
     "text": [
      "Epoch 1/8\n",
      "792/792 - 2s - loss: 23.5596 - accuracy: 0.7790 - val_loss: 0.3333 - val_accuracy: 0.8567\n",
      "Epoch 2/8\n",
      "792/792 - 2s - loss: 13.6777 - accuracy: 0.8815 - val_loss: 0.2828 - val_accuracy: 0.8706\n",
      "Epoch 3/8\n",
      "792/792 - 2s - loss: 11.2914 - accuracy: 0.9045 - val_loss: 0.2731 - val_accuracy: 0.8807\n",
      "Epoch 4/8\n",
      "792/792 - 2s - loss: 10.3256 - accuracy: 0.9156 - val_loss: 0.2786 - val_accuracy: 0.8782\n",
      "Epoch 5/8\n",
      "792/792 - 2s - loss: 9.8334 - accuracy: 0.9195 - val_loss: 0.2753 - val_accuracy: 0.8819\n",
      "Epoch 6/8\n",
      "792/792 - 2s - loss: 9.5229 - accuracy: 0.9195 - val_loss: 0.2776 - val_accuracy: 0.8819\n",
      "Epoch 7/8\n",
      "792/792 - 2s - loss: 9.0376 - accuracy: 0.9246 - val_loss: 0.2702 - val_accuracy: 0.8826\n",
      "Epoch 8/8\n",
      "792/792 - 2s - loss: 8.7197 - accuracy: 0.9287 - val_loss: 0.2830 - val_accuracy: 0.8819\n"
     ]
    }
   ],
   "source": [
    "weight = {0: 40, 1:60}\n",
    "history = model.fit(sequence, label_nn.todense(), batch_size=8, epochs=8, validation_split=0.2, verbose=2, class_weight=weight)"
   ]
  },
  {
   "cell_type": "code",
   "execution_count": 11,
   "metadata": {},
   "outputs": [],
   "source": [
    "model.save_weights(\"convolutional_weights.h5\")"
   ]
  },
  {
   "cell_type": "code",
   "execution_count": null,
   "metadata": {},
   "outputs": [],
   "source": []
  },
  {
   "cell_type": "code",
   "execution_count": 12,
   "metadata": {},
   "outputs": [],
   "source": [
    "test_sequence = tokenizer.texts_to_sequences(test_data[\"tweet\"])\n",
    "test_sequence = pad_sequences(test_sequence, maxlen=max_len, padding=\"post\")"
   ]
  },
  {
   "cell_type": "code",
   "execution_count": 13,
   "metadata": {},
   "outputs": [
    {
     "name": "stdout",
     "output_type": "stream",
     "text": [
      "WARNING:tensorflow:From <ipython-input-13-508b800225fe>:1: Sequential.predict_classes (from tensorflow.python.keras.engine.sequential) is deprecated and will be removed after 2021-01-01.\n",
      "Instructions for updating:\n",
      "Please use instead:* `np.argmax(model.predict(x), axis=-1)`,   if your model does multi-class classification   (e.g. if it uses a `softmax` last-layer activation).* `(model.predict(x) > 0.5).astype(\"int32\")`,   if your model does binary classification   (e.g. if it uses a `sigmoid` last-layer activation).\n"
     ]
    }
   ],
   "source": [
    "prediction = pd.DataFrame({\"label\": model.predict_classes(test_sequence)})\n",
    "prediction.to_csv(\"convolutional_prediction.csv\")"
   ]
  },
  {
   "cell_type": "code",
   "execution_count": 14,
   "metadata": {},
   "outputs": [
    {
     "data": {
      "text/plain": [
       "0    0.698413\n",
       "1    0.301587\n",
       "Name: label, dtype: float64"
      ]
     },
     "execution_count": 14,
     "metadata": {},
     "output_type": "execute_result"
    }
   ],
   "source": [
    "prediction[\"label\"].value_counts(normalize=True)\n",
    "# 0    0.702509\n",
    "# 1    0.297491"
   ]
  },
  {
   "cell_type": "code",
   "execution_count": null,
   "metadata": {},
   "outputs": [],
   "source": []
  },
  {
   "cell_type": "code",
   "execution_count": 15,
   "metadata": {},
   "outputs": [],
   "source": [
    "# prediction = model.predict_classes(test_sequence)\n",
    "# classifier_report(test_data[\"label\"], prediction)"
   ]
  },
  {
   "cell_type": "code",
   "execution_count": null,
   "metadata": {},
   "outputs": [],
   "source": []
  },
  {
   "cell_type": "code",
   "execution_count": 16,
   "metadata": {},
   "outputs": [],
   "source": [
    "# import random\n",
    "# random.seed(98)\n",
    "# incorrect = [pred != true for pred, true in zip(prediction, test_data[\"label\"])]\n",
    "# index = random.sample(range(0, len(test_data[incorrect])), 10)\n",
    "# for tweet, label in zip(test_data[incorrect][\"tweet\"].iloc[index], test_data[incorrect][\"label\"].iloc[index]):\n",
    "#     print(\"Label : \", label)\n",
    "#     print(tweet, end=\"\\n\\n\")"
   ]
  },
  {
   "cell_type": "code",
   "execution_count": null,
   "metadata": {},
   "outputs": [],
   "source": []
  },
  {
   "cell_type": "code",
   "execution_count": 17,
   "metadata": {},
   "outputs": [],
   "source": [
    "# def prediction(tweet):\n",
    "    \n",
    "#     sequence = tokenizer.texts_to_sequences(tweet)\n",
    "#     sequence = pad_sequences(sequence, maxlen=40, padding=\"post\")\n",
    "#     return model.predict_classes(sequence)"
   ]
  },
  {
   "cell_type": "code",
   "execution_count": null,
   "metadata": {},
   "outputs": [],
   "source": []
  }
 ],
 "metadata": {
  "kernelspec": {
   "display_name": "Python 3",
   "language": "python",
   "name": "python3"
  },
  "language_info": {
   "codemirror_mode": {
    "name": "ipython",
    "version": 3
   },
   "file_extension": ".py",
   "mimetype": "text/x-python",
   "name": "python",
   "nbconvert_exporter": "python",
   "pygments_lexer": "ipython3",
   "version": "3.8.3"
  }
 },
 "nbformat": 4,
 "nbformat_minor": 4
}
